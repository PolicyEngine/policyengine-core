{
 "cells": [
  {
   "cell_type": "markdown",
   "metadata": {},
   "source": [
    "# Country packages\n",
    "\n",
    "Most use cases won't interact with this package directly, but will instead use a country package, which is a Python package that contains a country's policy logic and parameters. The country package is responsible for defining the variables that are available in the simulation, and for defining the logic that calculates the values of those variables. The country package also defines the parameters that are used in the logic, and the default values of those parameters. Each country package has the same API:"
   ]
  },
  {
   "cell_type": "code",
   "execution_count": 1,
   "metadata": {},
   "outputs": [],
   "source": [
    "from policyengine_core.country_template import (\n",
    "    CountryTaxBenefitSystem,  # Holds all policy-related data.\n",
    "    Simulation,  # General purpose: enables users to simulate policy on new data.\n",
    "    Microsimulation,  # Specific purpose: enables users to simulate policy on large datasets.\n",
    "    COUNTRY_DIR,  # Path to the country directory.\n",
    "    DATASETS,  # List of datasets available for this country (to use with `Microsimulation`).\n",
    ")"
   ]
  },
  {
   "cell_type": "markdown",
   "metadata": {},
   "source": [
    "## Creating a country package\n",
    "\n",
    "To create a new country package, copy the `policyengine_core.country_template` module code into a new repo. Replace all code specific to the example country as needed. You'll want to check the following:\n",
    "\n",
    "* `variables/`: contains an arbitrarily-organised set of Python files, each defining a new `Variable`.\n",
    "* `parameters/`: contains the parameter tree, organised by folder structure.\n",
    "* `tests/`: contains policy logic and other tests.\n",
    "* `data/`: contains definitions for `Dataset`s usable with the country package.\n",
    "* `situation_examples/`: contains JSON examples of situations that can be used to quickly demonstrate the country package.\n",
    "* `reforms/`: contains implementations of reforms that can be applied to the country package.\n",
    "* `entities.py`: contains definitions for the entities use in the country package.\n",
    "* `__init__.py`: contains the `CountryTaxBenefitSystem`, `Simulation` and `Microsimulation` classes."
   ]
  }
 ],
 "metadata": {
  "kernelspec": {
   "display_name": "Python 3.9.12 ('base')",
   "language": "python",
   "name": "python3"
  },
  "language_info": {
   "codemirror_mode": {
    "name": "ipython",
    "version": 3
   },
   "file_extension": ".py",
   "mimetype": "text/x-python",
   "name": "python",
   "nbconvert_exporter": "python",
   "pygments_lexer": "ipython3",
   "version": "3.9.12"
  },
  "orig_nbformat": 4,
  "vscode": {
   "interpreter": {
    "hash": "40d3a090f54c6569ab1632332b64b2c03c39dcf918b08424e98f38b5ae0af88f"
   }
  }
 },
 "nbformat": 4,
 "nbformat_minor": 2
}
