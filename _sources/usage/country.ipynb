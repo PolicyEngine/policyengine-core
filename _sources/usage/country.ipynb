{
 "cells": [
  {
   "cell_type": "markdown",
   "metadata": {},
   "source": [
    "# Creating a country package\n",
    "\n",
    "Most use cases won't interact with this package directly, but will instead use a country package, which is a Python package that contains a country's policy logic and parameters. The country package is responsible for defining the variables that are available in the simulation, and for defining the logic that calculates the values of those variables. The country package also defines the parameters that are used in the logic, and the default values of those parameters. Each country package has the same API:"
   ]
  },
  {
   "cell_type": "code",
   "execution_count": 1,
   "metadata": {},
   "outputs": [],
   "source": [
    "from policyengine_core.country_template import (\n",
    "    CountryTaxBenefitSystem,  # Holds all policy-related data.\n",
    "    Simulation,  # General purpose: enables users to simulate policy on new data.\n",
    "    Microsimulation,  # Specific purpose: enables users to simulate policy on large datasets.\n",
    "    COUNTRY_DIR,  # Path to the country directory.\n",
    "    DATASETS,  # List of datasets available for this country (to use with `Microsimulation`).\n",
    ")"
   ]
  },
  {
   "cell_type": "markdown",
   "metadata": {},
   "source": [
    "## Building the repo\n",
    "\n",
    "To create a new country package, copy the `policyengine_core.country_template` module code into a new repo. Replace all code specific to the example country as needed. You'll want to check the following:\n",
    "\n",
    "* `variables/`: contains an arbitrarily-organised set of Python files, each defining a new `Variable`.\n",
    "* `parameters/`: contains the parameter tree, organised by folder structure.\n",
    "* `tests/`: contains policy logic and other tests.\n",
    "* `data/`: contains definitions for `Dataset`s usable with the country package.\n",
    "* `situation_examples/`: contains JSON examples of situations that can be used to quickly demonstrate the country package.\n",
    "* `reforms/`: contains implementations of reforms that can be applied to the country package.\n",
    "* `entities.py`: contains definitions for the entities use in the country package.\n",
    "* `__init__.py`: contains the `CountryTaxBenefitSystem`, `Simulation` and `Microsimulation` classes.\n",
    "\n",
    "## Creating the country interfaces\n",
    "\n",
    "The country package should define each of the main interfaces in the code block above, inheriting from Core classes and adding metadata. Here's how the example country package does it:"
   ]
  },
  {
   "cell_type": "code",
   "execution_count": 3,
   "metadata": {},
   "outputs": [],
   "source": [
    "import os\n",
    "from typing import Dict, Type\n",
    "from policyengine_core.data.dataset import Dataset\n",
    "from policyengine_core.populations.population import Population\n",
    "from policyengine_core.taxbenefitsystems import TaxBenefitSystem\n",
    "from policyengine_core.country_template import entities\n",
    "from policyengine_core.country_template.situation_examples import couple\n",
    "from policyengine_core.simulations import Simulation as CoreSimulation\n",
    "from policyengine_core.simulations import (\n",
    "    Microsimulation as CoreMicrosimulation,\n",
    ")\n",
    "from policyengine_core.country_template.data.datasets.country_template_dataset import (\n",
    "    CountryTemplateDataset,\n",
    ")\n",
    "from pathlib import Path\n",
    "import logging\n",
    "from policyengine_core.country_template.constants import COUNTRY_DIR\n",
    "\n",
    "DATASETS = [CountryTemplateDataset]  # Important: must be instantiated\n",
    "\n",
    "\n",
    "class CountryTaxBenefitSystem(TaxBenefitSystem):\n",
    "    entities = entities.entities\n",
    "    variables_dir = COUNTRY_DIR / \"variables\"\n",
    "    parameters_dir = COUNTRY_DIR / \"parameters\"\n",
    "    auto_carry_over_input_variables = False\n",
    "\n",
    "\n",
    "class Simulation(CoreSimulation):\n",
    "    default_tax_benefit_system = CountryTaxBenefitSystem\n",
    "\n",
    "\n",
    "class Microsimulation(CoreMicrosimulation):\n",
    "    default_tax_benefit_system = CountryTaxBenefitSystem\n",
    "    default_dataset = CountryTemplateDataset"
   ]
  }
 ],
 "metadata": {
  "kernelspec": {
   "display_name": "Python 3.9.12 ('base')",
   "language": "python",
   "name": "python3"
  },
  "language_info": {
   "codemirror_mode": {
    "name": "ipython",
    "version": 3
   },
   "file_extension": ".py",
   "mimetype": "text/x-python",
   "name": "python",
   "nbconvert_exporter": "python",
   "pygments_lexer": "ipython3",
   "version": "3.9.12 (main, Apr  5 2022, 01:53:17) \n[Clang 12.0.0 ]"
  },
  "orig_nbformat": 4,
  "vscode": {
   "interpreter": {
    "hash": "40d3a090f54c6569ab1632332b64b2c03c39dcf918b08424e98f38b5ae0af88f"
   }
  }
 },
 "nbformat": 4,
 "nbformat_minor": 2
}
