{
 "cells": [
  {
   "cell_type": "markdown",
   "metadata": {},
   "source": [
    "# Simulating policy\n",
    "\n",
    "The most common use-case of PolicyEngine Core country packages is to compute unknown variables for a given household, under a country's law. To do this, we need to specify the input household, using the entity and variable definitions as defined in the country code. If you're not sure what entities to declare or which variables to specify for which time periods, check the repository of the country package you're using. This page shows examples of how to use an existing country model to simulate policy.\n",
    "\n",
    "\n",
    "## Simulating on individual households\n",
    "\n",
    "Simulating policy on individual households is simple: import `Simulation` from the country package, and pass in the household's data as a dictionary. Then, use `Simulation.calculate(variable_name, time_period)` to compute a particular variable at a particular time period. The input data should be a dictionary, under the following format:\n",
    "\n",
    "* Entity plural (e.g. \"people\")\n",
    "  * Entity ID (e.g. \"person\")\n",
    "    * Variable name (e.g. \"age\")\n",
    "      * Time period (e.g. \"2019-01\"). This is optional; providing a single value here will use the default time period.\n",
    "        * Value (e.g. 30)\n",
    "    * (Only for group entities) The plural of the *role* (e.g. \"members\").\n",
    "      * The list of entity IDs who meet that role\n",
    "\n",
    "```{eval-rst}\n",
    ".. hint::\n",
    "    You don't have to pass in group entity plurals if there's only one group entity (e.g. if everyone is a member of the same household). Just pass in the single entity key (e.g. \"household\").\n",
    "\n",
    "```"
   ]
  },
  {
   "cell_type": "code",
   "execution_count": 1,
   "metadata": {},
   "outputs": [
    {
     "data": {
      "text/plain": [
       "array([4500.], dtype=float32)"
      ]
     },
     "execution_count": 1,
     "metadata": {},
     "output_type": "execute_result"
    }
   ],
   "source": [
    "from policyengine_core.country_template import Simulation\n",
    "\n",
    "EXAMPLE = dict(\n",
    "    persons=dict(\n",
    "        person=dict(\n",
    "            age=30,\n",
    "            salary=30_000,\n",
    "        ),\n",
    "    ),\n",
    ")\n",
    "\n",
    "simulation = Simulation(situation=EXAMPLE)\n",
    "simulation.calculate(\"income_tax\", \"2022-01\")"
   ]
  },
  {
   "cell_type": "markdown",
   "metadata": {},
   "source": [
    "Our example calculated €1,500 in income taxes for this input household, in three lines of code. We could also have asked for any other variable, at any other time period.\n",
    "\n",
    "### Simulating over axes\n",
    "\n",
    "Often, we might want to see how a particular variable changes in response to another variable(s). For this, we can use `axes`. This is a list of lists, with the following structure:\n",
    "\n",
    "* List of perpendicular axes\n",
    "  * List of parallel axes\n",
    "    * Axes description: the *name* of the variable to vary, the *min*, *max* and *count* of values\n"
   ]
  },
  {
   "cell_type": "code",
   "execution_count": 2,
   "metadata": {},
   "outputs": [
    {
     "data": {
      "text/plain": [
       "array([    0.    ,  1666.6667,  3333.3335,  5000.    ,  6666.667 ,\n",
       "        8333.334 , 10000.    , 11666.668 , 13333.334 , 15000.001 ],\n",
       "      dtype=float32)"
      ]
     },
     "execution_count": 2,
     "metadata": {},
     "output_type": "execute_result"
    }
   ],
   "source": [
    "EXAMPLE = dict(\n",
    "    persons=dict(\n",
    "        person=dict(\n",
    "            age=30,\n",
    "        ),\n",
    "    ),\n",
    "    axes=[[dict(name=\"salary\", count=10, min=0, max=100_000)]],\n",
    ")\n",
    "\n",
    "simulation = Simulation(situation=EXAMPLE)\n",
    "simulation.calculate(\"income_tax\", \"2022-01\")"
   ]
  },
  {
   "cell_type": "code",
   "execution_count": 8,
   "metadata": {},
   "outputs": [
    {
     "ename": "ImportError",
     "evalue": "cannot import name 'display_fig' from 'policyengine_core.charts' (/Users/nikhil/policyengine/policyengine-core/policyengine_core/charts/__init__.py)",
     "output_type": "error",
     "traceback": [
      "\u001b[0;31m---------------------------------------------------------------------------\u001b[0m",
      "\u001b[0;31mImportError\u001b[0m                               Traceback (most recent call last)",
      "\u001b[1;32m/Users/nikhil/policyengine/policyengine-core/docs/usage/simulation.ipynb Cell 5\u001b[0m in \u001b[0;36m<cell line: 2>\u001b[0;34m()\u001b[0m\n\u001b[1;32m      <a href='vscode-notebook-cell:/Users/nikhil/policyengine/policyengine-core/docs/usage/simulation.ipynb#X11sZmlsZQ%3D%3D?line=0'>1</a>\u001b[0m \u001b[39mimport\u001b[39;00m \u001b[39mplotly\u001b[39;00m\u001b[39m.\u001b[39;00m\u001b[39mexpress\u001b[39;00m \u001b[39mas\u001b[39;00m \u001b[39mpx\u001b[39;00m\n\u001b[0;32m----> <a href='vscode-notebook-cell:/Users/nikhil/policyengine/policyengine-core/docs/usage/simulation.ipynb#X11sZmlsZQ%3D%3D?line=1'>2</a>\u001b[0m \u001b[39mfrom\u001b[39;00m \u001b[39mpolicyengine_core\u001b[39;00m\u001b[39m.\u001b[39;00m\u001b[39mcharts\u001b[39;00m \u001b[39mimport\u001b[39;00m format_fig, display_fig\n\u001b[1;32m      <a href='vscode-notebook-cell:/Users/nikhil/policyengine/policyengine-core/docs/usage/simulation.ipynb#X11sZmlsZQ%3D%3D?line=3'>4</a>\u001b[0m fig \u001b[39m=\u001b[39m px\u001b[39m.\u001b[39mline(\n\u001b[1;32m      <a href='vscode-notebook-cell:/Users/nikhil/policyengine/policyengine-core/docs/usage/simulation.ipynb#X11sZmlsZQ%3D%3D?line=4'>5</a>\u001b[0m     x\u001b[39m=\u001b[39msimulation\u001b[39m.\u001b[39mcalculate(\u001b[39m\"\u001b[39m\u001b[39msalary\u001b[39m\u001b[39m\"\u001b[39m),\n\u001b[1;32m      <a href='vscode-notebook-cell:/Users/nikhil/policyengine/policyengine-core/docs/usage/simulation.ipynb#X11sZmlsZQ%3D%3D?line=5'>6</a>\u001b[0m     y\u001b[39m=\u001b[39msimulation\u001b[39m.\u001b[39mcalculate(\u001b[39m\"\u001b[39m\u001b[39mincome_tax\u001b[39m\u001b[39m\"\u001b[39m),\n\u001b[0;32m   (...)\u001b[0m\n\u001b[1;32m     <a href='vscode-notebook-cell:/Users/nikhil/policyengine/policyengine-core/docs/usage/simulation.ipynb#X11sZmlsZQ%3D%3D?line=15'>16</a>\u001b[0m     hovertemplate\u001b[39m=\u001b[39m\u001b[39m\"\u001b[39m\u001b[39m<b>Salary</b>: £\u001b[39m\u001b[39m%\u001b[39m\u001b[39m{x:,.0f}\u001b[39;00m\u001b[39m<br><b>Income tax</b>: £\u001b[39m\u001b[39m%\u001b[39m\u001b[39m{y:,.0f}\u001b[39;00m\u001b[39m\"\u001b[39m,\n\u001b[1;32m     <a href='vscode-notebook-cell:/Users/nikhil/policyengine/policyengine-core/docs/usage/simulation.ipynb#X11sZmlsZQ%3D%3D?line=16'>17</a>\u001b[0m )\n\u001b[1;32m     <a href='vscode-notebook-cell:/Users/nikhil/policyengine/policyengine-core/docs/usage/simulation.ipynb#X11sZmlsZQ%3D%3D?line=18'>19</a>\u001b[0m display_fig(format_fig(fig))\n",
      "\u001b[0;31mImportError\u001b[0m: cannot import name 'display_fig' from 'policyengine_core.charts' (/Users/nikhil/policyengine/policyengine-core/policyengine_core/charts/__init__.py)"
     ]
    }
   ],
   "source": [
    "import plotly.express as px\n",
    "from policyengine_core.charts import format_fig, display_fig, BLUE\n",
    "\n",
    "fig = (\n",
    "    px.line(\n",
    "        x=simulation.calculate(\"salary\"),\n",
    "        y=simulation.calculate(\"income_tax\"),\n",
    "        color_discrete_sequence=[BLUE],\n",
    "    )\n",
    "    .update_layout(\n",
    "        xaxis_title=\"Salary\",\n",
    "        yaxis_title=\"Income tax\",\n",
    "        title=\"Income tax by salary\",\n",
    "        xaxis_tickformat=\",.0f\",\n",
    "        yaxis_tickformat=\",.0f\",\n",
    "        xaxis_tickprefix=\"£\",\n",
    "        yaxis_tickprefix=\"£\",\n",
    "    )\n",
    "    .update_traces(\n",
    "        hovertemplate=\"<b>Salary</b>: £%{x:,.0f}<br><b>Income tax</b>: £%{y:,.0f}\",\n",
    "    )\n",
    ")\n",
    "\n",
    "display_fig(format_fig(fig))"
   ]
  },
  {
   "cell_type": "markdown",
   "metadata": {},
   "source": [
    "## Simulating over populations\n",
    "\n",
    "As well as a general-purpose `Simulation` interface, each country package also includes a `Microsimulation` interface. This inherits from `WeightedSimulation` (so everything that works on the former will work on the latter), handling survey weights and dataset loading."
   ]
  },
  {
   "cell_type": "code",
   "execution_count": 4,
   "metadata": {},
   "outputs": [
    {
     "data": {
      "text/plain": [
       "51.000003242492674"
      ]
     },
     "execution_count": 4,
     "metadata": {},
     "output_type": "execute_result"
    }
   ],
   "source": [
    "from policyengine_core.country_template import Microsimulation\n",
    "\n",
    "sim = Microsimulation()\n",
    "\n",
    "sim.calculate(\"income_tax\", \"2022-01\").sum() / 1e6"
   ]
  },
  {
   "cell_type": "markdown",
   "metadata": {},
   "source": [
    "If you inspect the result of the `sim.calculate` call, you'll find it actually returns a `MicroSeries` (defined by the `microdf` Python package). This is a class inheriting from `pandas.Series`, with a few extra methods for handling survey weights. The general intuition is that you can treat this weighted array as if it were an array of the full population it's representative of, using it it as you would any other `pandas.Series`."
   ]
  }
 ],
 "metadata": {
  "kernelspec": {
   "display_name": "Python 3.9.12 ('base')",
   "language": "python",
   "name": "python3"
  },
  "language_info": {
   "codemirror_mode": {
    "name": "ipython",
    "version": 3
   },
   "file_extension": ".py",
   "mimetype": "text/x-python",
   "name": "python",
   "nbconvert_exporter": "python",
   "pygments_lexer": "ipython3",
   "version": "3.9.12"
  },
  "orig_nbformat": 4,
  "vscode": {
   "interpreter": {
    "hash": "40d3a090f54c6569ab1632332b64b2c03c39dcf918b08424e98f38b5ae0af88f"
   }
  }
 },
 "nbformat": 4,
 "nbformat_minor": 2
}
