{
 "cells": [
  {
   "cell_type": "markdown",
   "metadata": {},
   "source": [
    "# Simulating policy\n",
    "\n",
    "The most common use-case of PolicyEngine Core country packages is to compute unknown variables for a given household, under a country's law. To do this, we need to specify the input household, using the entity and variable definitions as defined in the country code. If you're not sure what entities to declare or which variables to specify for which time periods, check the repository of the country package you're using. This page shows examples of how to use an existing country model to simulate policy.\n",
    "\n",
    "\n",
    "## Simulating on individual households\n",
    "\n",
    "Simulating policy on individual households is simple: import `Simulation` from the country package, and pass in the household's data as a dictionary. Then, use `Simulation.calculate(variable_name, time_period)` to compute a particular variable at a particular time period."
   ]
  },
  {
   "cell_type": "code",
   "execution_count": 1,
   "metadata": {},
   "outputs": [
    {
     "data": {
      "text/plain": [
       "array([1500.], dtype=float32)"
      ]
     },
     "execution_count": 1,
     "metadata": {},
     "output_type": "execute_result"
    }
   ],
   "source": [
    "from policyengine_core.country_template import Simulation\n",
    "\n",
    "EXAMPLE = {\n",
    "    \"persons\": {\n",
    "        \"person\": {\n",
    "            \"salary\": {\"2022-01\": 10_000},\n",
    "        },\n",
    "    },\n",
    "}\n",
    "\n",
    "simulation = Simulation(situation=EXAMPLE)\n",
    "simulation.calculate(\"income_tax\", \"2022-01\")"
   ]
  },
  {
   "cell_type": "markdown",
   "metadata": {},
   "source": [
    "Our example calculated €1,500 in income taxes for this input household, in three lines of code. We could also have asked for any other variable, at any other time period.\n",
    "\n",
    "## Simulating over populations\n",
    "\n",
    "As well as a general-purpose `Simulation` interface, each country package also includes a `Microsimulation` interface. This inherits from `WeightedSimulation` (so everything that works on the former will work on the latter), handling survey weights and dataset loading."
   ]
  },
  {
   "cell_type": "code",
   "execution_count": 4,
   "metadata": {},
   "outputs": [
    {
     "data": {
      "text/plain": [
       "45.00000286102295"
      ]
     },
     "execution_count": 4,
     "metadata": {},
     "output_type": "execute_result"
    }
   ],
   "source": [
    "from policyengine_core.country_template import Microsimulation\n",
    "\n",
    "sim = Microsimulation()\n",
    "\n",
    "sim.calculate(\"income_tax\", \"2022-01\").sum() / 1e6"
   ]
  },
  {
   "cell_type": "markdown",
   "metadata": {},
   "source": [
    "If you inspect the result of the `sim.calculate` call, you'll find it actually returns a `MicroSeries` (defined by the `microdf` Python package). This is a class inheriting from `pandas.Series`, with a few extra methods for handling survey weights. The general intuition is that you can treat this weighted array as if it were an array of the full population it's representative of, using it it as you would any other `pandas.Series`."
   ]
  }
 ],
 "metadata": {
  "kernelspec": {
   "display_name": "Python 3.9.12 ('base')",
   "language": "python",
   "name": "python3"
  },
  "language_info": {
   "codemirror_mode": {
    "name": "ipython",
    "version": 3
   },
   "file_extension": ".py",
   "mimetype": "text/x-python",
   "name": "python",
   "nbconvert_exporter": "python",
   "pygments_lexer": "ipython3",
   "version": "3.9.12"
  },
  "orig_nbformat": 4,
  "vscode": {
   "interpreter": {
    "hash": "40d3a090f54c6569ab1632332b64b2c03c39dcf918b08424e98f38b5ae0af88f"
   }
  }
 },
 "nbformat": 4,
 "nbformat_minor": 2
}
