{
 "cells": [
  {
   "cell_type": "markdown",
   "metadata": {},
   "source": [
    "# Country template\n",
    "\n",
    "The `country_template` folder is a working example of a country model. To create a new country model, create a new repository with the folder's contents:\n",
    "\n",
    "* `parameters/` contains the parameter tree, with examples.\n",
    "* `reforms/` contains several example reforms written using the Python reforms API.\n",
    "* `situation_examples/` contains several example situations, in JSON format and accessible as Python objects.\n",
    "* `tests/` contains a set of YAML tests to check policy implementations function.\n",
    "* `variables/` contain definitions of variables with formulas.\n",
    "* `entities.py` contains definitions of entities.\n",
    "\n",
    "## Running a simulation\n",
    "\n",
    "The below example runs a simulation using the example country model template."
   ]
  },
  {
   "cell_type": "code",
   "execution_count": 1,
   "metadata": {},
   "outputs": [
    {
     "name": "stdout",
     "output_type": "stream",
     "text": [
      "[600.]\n"
     ]
    }
   ],
   "source": [
    "from policyengine_core import SimulationBuilder\n",
    "from policyengine_core.country_template import CountryTaxBenefitSystem\n",
    "from policyengine_core.country_template.situation_examples import single\n",
    "\n",
    "system = CountryTaxBenefitSystem()\n",
    "\n",
    "simulation = SimulationBuilder().build_from_dict(\n",
    "    system,\n",
    "    single,\n",
    ")\n",
    "\n",
    "print(simulation.calculate(\"disposable_income\", \"2017-01\"))"
   ]
  },
  {
   "cell_type": "markdown",
   "metadata": {},
   "source": [
    "## Testing a country model\n",
    "\n",
    "The example below runs all tests defined for the example country model. This can also be done by running:\n",
    "\n",
    "`policyengine-core test -c policyengine_core.country_template policyengine_core/country_template/tests`"
   ]
  },
  {
   "cell_type": "code",
   "execution_count": 3,
   "metadata": {},
   "outputs": [
    {
     "name": "stdout",
     "output_type": "stream",
     "text": [
      "============================= test session starts ==============================\n",
      "platform darwin -- Python 3.9.12, pytest-5.4.3, py-1.11.0, pluggy-0.13.1\n",
      "rootdir: /Users/nikhil/policyengine/policyengine-core\n",
      "plugins: anyio-3.5.0\n",
      "collected 0 items\n",
      "\n",
      "============================ no tests ran in 0.00s =============================\n"
     ]
    },
    {
     "name": "stderr",
     "output_type": "stream",
     "text": [
      "ERROR: file not found: /Users/nikhil/policyengine/policyengine-core/docs/python_api/policyengine_core/country_template/tests\n",
      "\n"
     ]
    },
    {
     "data": {
      "text/plain": [
       "CompletedProcess(args=['policyengine-core', 'test', '-c', 'policyengine_core.country_template', 'policyengine_core/country_template/tests'], returncode=4)"
      ]
     },
     "execution_count": 3,
     "metadata": {},
     "output_type": "execute_result"
    }
   ],
   "source": [
    "import subprocess\n",
    "from policyengine_core.country_template import COUNTRY_DIR\n",
    "\n",
    "subprocess.run(\n",
    "    [\n",
    "        \"policyengine-core\",\n",
    "        \"test\",\n",
    "        \"-c\",\n",
    "        \"policyengine_core.country_template\",\n",
    "       COUNTRY_DIR / \"tests\",\n",
    "    ]\n",
    ")\n"
   ]
  }
 ],
 "metadata": {
  "kernelspec": {
   "display_name": "Python 3.9.12 ('base')",
   "language": "python",
   "name": "python3"
  },
  "language_info": {
   "codemirror_mode": {
    "name": "ipython",
    "version": 3
   },
   "file_extension": ".py",
   "mimetype": "text/x-python",
   "name": "python",
   "nbconvert_exporter": "python",
   "pygments_lexer": "ipython3",
   "version": "3.9.12"
  },
  "orig_nbformat": 4,
  "vscode": {
   "interpreter": {
    "hash": "40d3a090f54c6569ab1632332b64b2c03c39dcf918b08424e98f38b5ae0af88f"
   }
  }
 },
 "nbformat": 4,
 "nbformat_minor": 2
}
