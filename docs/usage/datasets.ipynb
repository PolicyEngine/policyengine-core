{
 "cells": [
  {
   "cell_type": "markdown",
   "metadata": {},
   "source": [
    "# Writing datasets\n",
    "\n",
    "A common use case of PolicyEngine Core country models is not just simulating for a few households, but thousands in the form of microsimulation on survey data. This technique can be used to simulate the impact of a policy on a population, or to compare the impact of different policies on the same population. To do this, we need to be able to load data into PolicyEngine Core, and to do this we use a standardised format using the `Dataset` class.\n",
    "\n",
    "## Example\n",
    "\n",
    "Here's the Country Template's default example for a dataset."
   ]
  },
  {
   "cell_type": "code",
   "execution_count": 9,
   "metadata": {},
   "outputs": [
    {
     "data": {
      "text/plain": [
       "array([100.,   0., 200.], dtype=float32)"
      ]
     },
     "execution_count": 9,
     "metadata": {},
     "output_type": "execute_result"
    }
   ],
   "source": [
    "from policyengine_core.country_template.constants import COUNTRY_DIR\n",
    "from policyengine_core.data import Dataset\n",
    "from policyengine_core.periods import ETERNITY, MONTH, period\n",
    "\n",
    "\n",
    "class CountryTemplateDataset(Dataset):\n",
    "    # Specify metadata used to describe and store the dataset.\n",
    "    name = \"country_template_dataset\"\n",
    "    label = \"Country template dataset\"\n",
    "    file_path = (\n",
    "        COUNTRY_DIR / \"data\" / \"storage\" / \"country_template_dataset.h5\"\n",
    "    )\n",
    "    data_format = Dataset.TIME_PERIOD_ARRAYS\n",
    "\n",
    "    # The generation function is the most important part: it defines\n",
    "    # how the dataset is generated from the raw data.\n",
    "    def generate(self) -> None:\n",
    "        person_id = [0, 1, 2]\n",
    "        household_id = [0, 1]\n",
    "        person_household_id = [0, 0, 1]\n",
    "        person_household_role = [\"parent\", \"child\", \"parent\"]\n",
    "        salary = [100, 0, 200]\n",
    "        salary_time_period = period(\"2022-01\")\n",
    "        weight = [1e6, 1.2e6]\n",
    "        weight_time_period = period(\"2022\")\n",
    "        data = {\n",
    "            \"person_id\": {ETERNITY: person_id},\n",
    "            \"household_id\": {ETERNITY: household_id},\n",
    "            \"person_household_id\": {ETERNITY: person_household_id},\n",
    "            \"person_household_role\": {ETERNITY: person_household_role},\n",
    "            \"salary\": {salary_time_period: salary},\n",
    "            \"household_weight\": {weight_time_period: weight},\n",
    "        }\n",
    "        self.save_dataset(data)\n",
    "\n",
    "\n",
    "from policyengine_core.country_template import Simulation\n",
    "\n",
    "CountryTemplateDataset().generate()\n",
    "\n",
    "simulation = Simulation(dataset=CountryTemplateDataset)\n",
    "\n",
    "simulation.calculate(\"salary\", \"2022-01\")"
   ]
  }
 ],
 "metadata": {
  "kernelspec": {
   "display_name": "Python 3.9.12 ('base')",
   "language": "python",
   "name": "python3"
  },
  "language_info": {
   "codemirror_mode": {
    "name": "ipython",
    "version": 3
   },
   "file_extension": ".py",
   "mimetype": "text/x-python",
   "name": "python",
   "nbconvert_exporter": "python",
   "pygments_lexer": "ipython3",
   "version": "3.10.14"
  },
  "orig_nbformat": 4,
  "vscode": {
   "interpreter": {
    "hash": "40d3a090f54c6569ab1632332b64b2c03c39dcf918b08424e98f38b5ae0af88f"
   }
  }
 },
 "nbformat": 4,
 "nbformat_minor": 2
}
