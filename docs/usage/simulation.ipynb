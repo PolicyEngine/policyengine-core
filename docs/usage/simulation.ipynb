{
 "cells": [
  {
   "cell_type": "markdown",
   "metadata": {},
   "source": [
    "# Simulation\n",
    "\n",
    "The most common use-case of PolicyEngine Core country packages is to compute unknown variables for a given household, under a country's law. To do this, we need to specify the input household, using the entity and variable definitions as defined in the country code. If you're not sure what entities to declare or which variables to specify for which time periods, check the repository of the country package you're using.\n",
    "\n",
    "## Example: calculating income tax"
   ]
  },
  {
   "cell_type": "code",
   "execution_count": 3,
   "metadata": {},
   "outputs": [
    {
     "data": {
      "text/plain": [
       "array([1500.], dtype=float32)"
      ]
     },
     "execution_count": 3,
     "metadata": {},
     "output_type": "execute_result"
    }
   ],
   "source": [
    "from policyengine_core.country_template import CountryTaxBenefitSystem # Import a different country here\n",
    "from policyengine_core import SimulationBuilder\n",
    "\n",
    "system = CountryTaxBenefitSystem()\n",
    "simulation = SimulationBuilder().build_from_dict(system, {\n",
    "    \"persons\": {\n",
    "        \"person\": {\n",
    "            \"salary\": {\"2022-01\": 10_000},\n",
    "        },\n",
    "    },\n",
    "})\n",
    "\n",
    "simulation.calculate(\"income_tax\", \"2022-01\")"
   ]
  }
 ],
 "metadata": {
  "kernelspec": {
   "display_name": "Python 3.9.12 ('base')",
   "language": "python",
   "name": "python3"
  },
  "language_info": {
   "codemirror_mode": {
    "name": "ipython",
    "version": 3
   },
   "file_extension": ".py",
   "mimetype": "text/x-python",
   "name": "python",
   "nbconvert_exporter": "python",
   "pygments_lexer": "ipython3",
   "version": "3.9.12"
  },
  "orig_nbformat": 4,
  "vscode": {
   "interpreter": {
    "hash": "40d3a090f54c6569ab1632332b64b2c03c39dcf918b08424e98f38b5ae0af88f"
   }
  }
 },
 "nbformat": 4,
 "nbformat_minor": 2
}
